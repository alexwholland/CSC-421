{
  "cells": [
    {
      "cell_type": "markdown",
      "metadata": {
        "id": "EeemmH66ZQ9O"
      },
      "source": [
        "# CSC421 Fall 2023 Assignment 2\n",
        "### Author: George Tzanetakis\n",
        "\n",
        "This notebook is based on the supporting material for topics covered in **Chapter 7 - Logical Agents** and **Chapter 8 - First-Order Logic** from the book *Artificial Intelligence: A Modern Approach.* You can consult and modify the textbook code provided in logic.py and logic.ipynb for completing the assignment questions. The first 5 questions do NOT rely on the provided aima code so you can complete them just using basic Python. Questions 6 and 7 do require the use of the aima-code repository.\n",
        "\n",
        "You are welcome and actually it can be educational to look at the code at the aima-code repository as well as other code resources you can find on the web. However, make sure you understand any code that you incoporate.\n",
        "\n",
        "Each question is worth 1% of the total grade. The advanced questions require significantly more\n",
        "effort than the basic and expected questions. The assignment structure is as follows:\n",
        "\n",
        "1. Propositional Logic (Basic) - simple infix evaluator for 0, 1 and logical operators\n",
        "2. Propositional Logic (Basic) - adding variables and bindings to evaluator\n",
        "3. Propositional Logic (Expected) - recursive infix evaluator for propositional logic\n",
        "4. Propositional Logic (Expected) - usage of evaluator to evaluate some example logic expressions\n",
        "5. Propositional Logic (Advanced) - model checking for the prefix evaluator\n",
        "6. Propositional Logic(Basic) - simple KB using aima code with model checking and theorem proving\n",
        "7. First-Order Logic (Basic) - kinship domain using FolKB for the Simpsons\n",
        "8. First-Order Logic (Expected) - kinship domain using Prolog for the Simpsons\n",
        "9. First-Order Logic (Expected) - LegoWorld\n",
        "10. First-Order Logic (Advanced) - NLP for LegoWorld or webscraping a KB for music  \n",
        "\n",
        "```\n",
        "Birds can fly, unless they are penguins and ostriches, or if they happen\n",
        "to be dead, or have broken wings, or are confined to cages, or have their\n",
        "feet stuck in cement, or have undergone experiences so dreadful as to render\n",
        "them psychologically incapable of flight\n",
        "\n",
        "Marvin Minsky\n",
        "```"
      ]
    },
    {
      "cell_type": "markdown",
      "metadata": {
        "id": "7DxoSpuxZQ9W"
      },
      "source": [
        "# Introduction - Parsing and evaluating prefix logic expressions  \n",
        "\n",
        "In this assignment your task is to incrementally create a parser and evaluator for prefix logic expressions as well as implement simple model checking.\n"
      ]
    },
    {
      "cell_type": "markdown",
      "metadata": {
        "id": "UAD_ybj6ZQ9Z"
      },
      "source": [
        "# Question 1 (Basic)\n",
        "\n",
        "Your first task will be to write a simple evaluator of prefix logic expressions with constants. In prefix notation the operator precedes the operands and no operands are required. For example 5+3 in prefix notation is written + 5 3 or 5 * 2 + 3 would be written + * 5 2 3 or + * 5 2 * 3 4 is equivalent to (5 * 2) + (3 * 4)."
      ]
    },
    {
      "cell_type": "markdown",
      "metadata": {
        "id": "YhPCuL4XZQ9b"
      },
      "source": [
        "As a first step we will consider very simple expressions with one operator and two constant operands. We will use 0 for false and 1 for true. The following logical connectives should be implemented (see Figure 7.8 in your book) (notice that for now there is no negation symbol ~):\n",
        "\n",
        "1. &    (and),\n",
        "3. |    (or),\n",
        "4. =>   (implication)\n",
        "5. <=>  (biconditional)\n",
        "\n",
        "Example expressions:\n",
        "```\n",
        "& 1 0  \n",
        "=> 0 1\n",
        "<=> 1 1\n",
        "```\n",
        "\n",
        "Your function should take as input a string with the prefix expression and return the result of evaluating the expression (basically a 1 for true and 0 for false). You can split a string to a list using .split[' ']. For this part of the assignment you only evaluate expressions with two constant operands i.e no nested/recursive expressions."
      ]
    },
    {
      "cell_type": "code",
      "execution_count": null,
      "metadata": {
        "id": "phpxF8qXZQ9e",
        "outputId": "541d9e30-d146-46cb-c2d0-52fef46b2e81",
        "colab": {
          "base_uri": "https://localhost:8080/"
        }
      },
      "outputs": [
        {
          "output_type": "stream",
          "name": "stdout",
          "text": [
            "['&', '1', '0']\n"
          ]
        }
      ],
      "source": [
        "a = '& 1 0'\n",
        "print(a.split(' '))"
      ]
    },
    {
      "cell_type": "code",
      "execution_count": 85,
      "metadata": {
        "id": "82VHz97vZQ9k",
        "outputId": "102822ff-08b6-442b-d09e-fdd6c0568795",
        "colab": {
          "base_uri": "https://localhost:8080/"
        }
      },
      "outputs": [
        {
          "output_type": "stream",
          "name": "stdout",
          "text": [
            "0\n",
            "1\n",
            "1\n",
            "1\n"
          ]
        }
      ],
      "source": [
        "# YOUR CODE GOES HERE\n",
        "def evaluate_prefix_expression(expression):\n",
        "    tokens = expression.split()\n",
        "\n",
        "    # Operator mapping to their corresponding functions\n",
        "    operators = {\n",
        "        '&': lambda x, y: x & y,\n",
        "        '|': lambda x, y: x | y,\n",
        "        '=>': lambda x, y: (not x) or y,\n",
        "        '<=>': lambda x, y: (x and y) or (not x and not y)\n",
        "    }\n",
        "\n",
        "    operator = tokens[0]\n",
        "    operand1 = int(tokens[1])\n",
        "    operand2 = int(tokens[2])\n",
        "\n",
        "    if operator not in operators:\n",
        "        return \"Invalid operator\"\n",
        "\n",
        "    result = operators[operator](operand1, operand2)\n",
        "\n",
        "    result = 1 if result else 0\n",
        "\n",
        "    return result\n",
        "\n",
        "# Example usage:\n",
        "exp1 = '& 1 0'\n",
        "exp2 = '| 0 1'\n",
        "exp3 =  '=> 0 1'\n",
        "exp4 = '<=> 1 1'\n",
        "\n",
        "print(evaluate_prefix_expression(exp1))\n",
        "print(evaluate_prefix_expression(exp2))\n",
        "print(evaluate_prefix_expression(exp3))\n",
        "print(evaluate_prefix_expression(exp4))\n"
      ]
    },
    {
      "cell_type": "markdown",
      "metadata": {
        "id": "lGiJlVo1ZQ9m"
      },
      "source": [
        "# Question 2 (Basic)\n",
        "\n",
        "Your next task is to implement variables and bindings for your propositional logic evaluator. In this version in addition to constants (0 and 1) you also can have variables which are strings with associated values provided in a dictionary. You still only consider two operands and one operator (no nesting). For example in the code below\n",
        "the three expressions are equivalent. Your function should take as arguments the expression to be evaluated as a string and the dictionary with the variable bindings. In addition you need to add the ~ (not) operator. To do so for each variable in the dictionary add a not version. For example if 'a' in the dictionary has a value of 1 the '~a' in the dictionary should have a value of 0. Notice that the not symbol is part of the string and it is NOT separated by a space.\n",
        "\n"
      ]
    },
    {
      "cell_type": "code",
      "execution_count": null,
      "metadata": {
        "id": "KfiPDQhzZQ9o",
        "outputId": "a713ea61-3d26-4cc2-ab31-ca452e90874f",
        "colab": {
          "base_uri": "https://localhost:8080/"
        }
      },
      "outputs": [
        {
          "output_type": "stream",
          "name": "stdout",
          "text": [
            "{'foo': 0, 'b': 1}\n"
          ]
        }
      ],
      "source": [
        "d = {'foo': 0, 'b': 1}\n",
        "print(d)\n",
        "expr1 = '& 0 1'\n",
        "expr2 = '& foo 1'\n",
        "expr3 = '& foo ~b'"
      ]
    },
    {
      "cell_type": "code",
      "execution_count": 86,
      "metadata": {
        "scrolled": true,
        "id": "gqYVNi1fZQ9r",
        "colab": {
          "base_uri": "https://localhost:8080/"
        },
        "outputId": "07350803-2a8b-41a8-9bf4-990b6f0b99ec"
      },
      "outputs": [
        {
          "output_type": "stream",
          "name": "stdout",
          "text": [
            "{'foo': 0, 'b': 0}\n",
            "1\n",
            "0\n",
            "1\n"
          ]
        }
      ],
      "source": [
        "# YOUR CODE GOES HERE\n",
        "def evaluate_prefix_expression_with_variables(expression, bindings):\n",
        "    tokens = expression.split()\n",
        "\n",
        "    operators = {\n",
        "        '&': lambda x, y: x & y,\n",
        "        '|': lambda x, y: x | y,\n",
        "        '=>': lambda x, y: (not x) or y,\n",
        "        '<=>': lambda x, y: (x and y) or (not x and not y)\n",
        "    }\n",
        "\n",
        "    def evaluate_token(token):\n",
        "        if token.isdigit():\n",
        "            return int(token)\n",
        "        elif token.startswith('~'):\n",
        "            return 1 - bindings[token[1:]]  # Get the not version from the bindings\n",
        "        else:\n",
        "            return bindings[token]\n",
        "\n",
        "    operator = tokens[0]\n",
        "    operand1 = evaluate_token(tokens[1])\n",
        "    operand2 = evaluate_token(tokens[2])\n",
        "\n",
        "    if operator not in operators:\n",
        "        return \"Invalid operator\"\n",
        "\n",
        "    result = operators[operator](operand1, operand2)\n",
        "    result = 1 if result else 0\n",
        "\n",
        "    return result\n",
        "\n",
        "# Example usage:\n",
        "d = {'foo': 0, 'b': 0}\n",
        "print(d)\n",
        "expr1 = '& ~b 1'\n",
        "expr2 = '& foo 1'\n",
        "expr3 = '& ~foo ~b'\n",
        "\n",
        "print(evaluate_prefix_expression_with_variables(expr1, d))\n",
        "print(evaluate_prefix_expression_with_variables(expr2, d))\n",
        "print(evaluate_prefix_expression_with_variables(expr3, d))\n",
        "\n"
      ]
    },
    {
      "cell_type": "markdown",
      "metadata": {
        "id": "trBiPmDTZQ9u"
      },
      "source": [
        "# Question 3 (Expected)\n",
        "\n",
        "\n",
        "The following code is a recursive evaluator for prefix arithmetic expressions. It assumes that there are always two operands either an integer or a prefix expression starting with an operator (addition or multiplication). It is a good idea to go through this function carefully by hand to understand how the recursion works.\n",
        "\n",
        "Informed by your understanding of the arithmetic recursive_eval function your task is to write function to implement a recursive prefix logic evaluator. Your evaluator should also support variables bindings using a dictionary as in the previous question.\n",
        "\n",
        "Example expressions:\n",
        "```\n",
        "& 1 & 1 a   \n",
        "=> 0 & b ~alice  \n",
        "<=> foo 1\n",
        "```"
      ]
    },
    {
      "cell_type": "code",
      "execution_count": null,
      "metadata": {
        "id": "rADAXWjJZQ9w",
        "colab": {
          "base_uri": "https://localhost:8080/"
        },
        "outputId": "ac95b40b-af39-44f0-956a-c63ac8cb85ee"
      },
      "outputs": [
        {
          "output_type": "stream",
          "name": "stdout",
          "text": [
            "1\n",
            "3\n",
            "7\n",
            "28\n"
          ]
        }
      ],
      "source": [
        "def recursive_eval(l):\n",
        "    head, tail = l[0], l[1:]\n",
        "    if head in ['+', '*']:\n",
        "        val1, tail = recursive_eval(tail)\n",
        "        val2, tail = recursive_eval(tail)\n",
        "        if head == '+':\n",
        "            return (int(val1)+int(val2), tail)\n",
        "        elif head == '*':\n",
        "            return (int(val1)*int(val2), tail)\n",
        "    # operator is a number\n",
        "    else:\n",
        "        return (int(head),tail)\n",
        "\n",
        "def prefix_eval(input_str):\n",
        "    input_list = input_str.split(' ')\n",
        "    res, tail = recursive_eval(input_list)\n",
        "    return res\n",
        "\n",
        "print(prefix_eval('1'))\n",
        "print(prefix_eval('+ 1 2'))\n",
        "print(prefix_eval('+ 1 * 2 3'))\n",
        "print(prefix_eval('+ * 5 2 * 3 + 1 5'))"
      ]
    },
    {
      "cell_type": "code",
      "execution_count": null,
      "metadata": {
        "scrolled": true,
        "id": "LUmOYM8eZQ90",
        "colab": {
          "base_uri": "https://localhost:8080/"
        },
        "outputId": "6019aab7-95f2-45a6-bdb7-26925f1e449d"
      },
      "outputs": [
        {
          "output_type": "stream",
          "name": "stdout",
          "text": [
            "0\n",
            "1\n",
            "0\n"
          ]
        }
      ],
      "source": [
        "# YOUR CODE GOES HERE\n",
        "\n",
        "def evaluate_prefix_recursive(binding, expression):\n",
        "    def replace_variables(token):\n",
        "        if token.startswith('~'):\n",
        "            return str(int(not binding[token[1:]]))\n",
        "        return str(binding[token]) if token in binding else token\n",
        "\n",
        "    tokens = expression.split()\n",
        "    operators = {\n",
        "        '&': lambda x, y: x and y,\n",
        "        '|': lambda x, y: x or y,\n",
        "        '=>': lambda x, y: 1 if x <= y else 0,\n",
        "        '<=>': lambda x, y: 1 if x == y else 0\n",
        "    }\n",
        "\n",
        "    def evaluate(tokens):\n",
        "        if not tokens:\n",
        "            return None\n",
        "\n",
        "        token = tokens.pop(0)\n",
        "\n",
        "        if token in operators:\n",
        "            value1 = evaluate(tokens)\n",
        "            value2 = evaluate(tokens)\n",
        "            return operators[token](int(value1), int(value2))\n",
        "\n",
        "        return int(replace_variables(token))\n",
        "\n",
        "    result = evaluate(tokens)\n",
        "    return result\n",
        "\n",
        "# Test cases and variable bindings\n",
        "expression_a = '& 1 & 1 a'\n",
        "expression_b = '=> 0 & b ~alice'\n",
        "expression_c = '<=> foo 1'\n",
        "bindings = {'foo': 0, 'alice': 0, 'a': 0, 'b': 0}\n",
        "\n",
        "print(evaluate_prefix_recursive(bindings, expression_a))  # Output: 0\n",
        "print(evaluate_prefix_recursive(bindings, expression_b))  # Output: 1\n",
        "print(evaluate_prefix_recursive(bindings, expression_c))  # Output: 0\n",
        "\n",
        "\n"
      ]
    },
    {
      "cell_type": "markdown",
      "metadata": {
        "id": "-v0iMRmeZQ91"
      },
      "source": [
        "# QUESTION 4 (EXPECTED)"
      ]
    },
    {
      "cell_type": "markdown",
      "metadata": {
        "id": "8Eb8wK9uZQ92"
      },
      "source": [
        "\n",
        "Using the recursive prefix evaluator you defined in the previous question\n",
        "answer the following question (you will need to convert the exressions below\n",
        "to prefix). You can use multiple string assignments to assemble more complicated\n",
        "sentences into one big string:\n",
        "\n",
        "\n",
        "Let A be the formula:\n",
        "\n",
        "\\begin{equation}\n",
        "  (( p_{1} \\rightarrow (p2 \\land p_{3})) \\land ((\\neg p_{1})\n",
        "  \\rightarrow (p_{3} \\land p_{4})))\n",
        "\\end{equation}\n",
        "\n",
        "Let B be the formula:\n",
        "\n",
        "\\begin{equation}\n",
        "  (( p_{3} \\rightarrow (\\neg p_{6})) \\land ((\\neg\n",
        "  p_{3}) \\rightarrow (p_{4} \\rightarrow p_{1})))  \n",
        "\\end{equation}\n",
        "\n",
        "Let C be the formula:\n",
        "\n",
        "\\begin{equation}\n",
        "  ((\\neg(p2 \\land p_{5})) \\land (p2 \\rightarrow p_{5}))\n",
        "\\end{equation}\n",
        "\n",
        "Let D be the formula:\n",
        "\n",
        "\\begin{equation}\n",
        "  (\\neg (p_{3} \\rightarrow p_{6}))\n",
        "\\end{equation}\n",
        "\n",
        "Evaluate the formulate E:\n",
        "\\begin{equation}\n",
        "  (( A \\land (B \\land C)) \\rightarrow D)\n",
        "\\end{equation}\n",
        "\n",
        "under the true assignment $I_{1}$, where $I_{1}(p_{1}) = I_{1}(p_{3}) = I_{1}(p_{5}) = false$\n",
        "and $I_{1}(p2) = I_{1}(p_{4}) = I_{1}(p_{6}) = true$ as well as under the truth assignment\n",
        "$I_{2}$, where $I_{2}(p_{1}) = I_{2}(p_{3}) = I_{2}(p_{5}) = true$ and\n",
        "$I_{2}(p_{2})=I_{2}(p_{4})=I_{2}(p_{6}) = false$.\n"
      ]
    },
    {
      "cell_type": "code",
      "execution_count": null,
      "metadata": {
        "id": "WZBFZjXmZQ93"
      },
      "outputs": [],
      "source": [
        "## YOUR CODDE GOES HERE\n",
        "\n"
      ]
    },
    {
      "cell_type": "markdown",
      "metadata": {
        "id": "3YO3XZH-v7Pd"
      },
      "source": [
        "# Question 3 (Expected)\n",
        "\n",
        "\n",
        "The following code is a recursive evaluator for prefix arithmetic expressions. It assumes that there are always two operands either an integer or a prefix expression starting with an operator (addition or multiplication). It is a good idea to go through this function carefully by hand to understand how the recursion works.\n",
        "\n",
        "Informed by your understanding of the arithmetic recursive_eval function your task is to write function to implement a recursive prefix logic evaluator. Your evaluator should also support variables bindings using a dictionary as in the previous question.\n",
        "\n",
        "Example expressions:\n",
        "```\n",
        "& 1 & 1 a   \n",
        "=> 0 & b ~alice  \n",
        "<=> foo 1\n",
        "```"
      ]
    },
    {
      "cell_type": "code",
      "execution_count": null,
      "metadata": {
        "colab": {
          "base_uri": "https://localhost:8080/"
        },
        "outputId": "ac95b40b-af39-44f0-956a-c63ac8cb85ee",
        "id": "YgvJsAEov7Pe"
      },
      "outputs": [
        {
          "output_type": "stream",
          "name": "stdout",
          "text": [
            "1\n",
            "3\n",
            "7\n",
            "28\n"
          ]
        }
      ],
      "source": [
        "def recursive_eval(l):\n",
        "    head, tail = l[0], l[1:]\n",
        "    if head in ['+', '*']:\n",
        "        val1, tail = recursive_eval(tail)\n",
        "        val2, tail = recursive_eval(tail)\n",
        "        if head == '+':\n",
        "            return (int(val1)+int(val2), tail)\n",
        "        elif head == '*':\n",
        "            return (int(val1)*int(val2), tail)\n",
        "    # operator is a number\n",
        "    else:\n",
        "        return (int(head),tail)\n",
        "\n",
        "def prefix_eval(input_str):\n",
        "    input_list = input_str.split(' ')\n",
        "    res, tail = recursive_eval(input_list)\n",
        "    return res\n",
        "\n",
        "print(prefix_eval('1'))\n",
        "print(prefix_eval('+ 1 2'))\n",
        "print(prefix_eval('+ 1 * 2 3'))\n",
        "print(prefix_eval('+ * 5 2 * 3 + 1 5'))"
      ]
    },
    {
      "cell_type": "code",
      "execution_count": 89,
      "metadata": {
        "scrolled": true,
        "colab": {
          "base_uri": "https://localhost:8080/"
        },
        "outputId": "4f669d9b-a79f-470f-acde-f4c15efa87ac",
        "id": "Ui7G_hsCv7Pe"
      },
      "outputs": [
        {
          "output_type": "stream",
          "name": "stdout",
          "text": [
            "0\n",
            "1\n",
            "0\n"
          ]
        }
      ],
      "source": [
        "# YOUR CODE GOES HERE\n",
        "\n",
        "def evaluate_prefix_recursive(binding, expression):\n",
        "    def replace_variables(token):\n",
        "        if token.startswith('~'):\n",
        "            return str(int(not binding[token[1:]]))\n",
        "        return str(binding[token]) if token in binding else token\n",
        "\n",
        "    tokens = expression.split()\n",
        "    operators = {\n",
        "        '&': lambda x, y: x and y,\n",
        "        '|': lambda x, y: x or y,\n",
        "        '=>': lambda x, y: 1 if x <= y else 0,\n",
        "        '<=>': lambda x, y: 1 if x == y else 0\n",
        "    }\n",
        "\n",
        "    def evaluate(tokens):\n",
        "        if not tokens:\n",
        "            return None\n",
        "\n",
        "        token = tokens.pop(0)\n",
        "\n",
        "        if token in operators:\n",
        "            value1 = evaluate(tokens)\n",
        "            value2 = evaluate(tokens)\n",
        "            return operators[token](int(value1), int(value2))\n",
        "\n",
        "        return int(replace_variables(token))\n",
        "\n",
        "    result = evaluate(tokens)\n",
        "    return result\n",
        "\n",
        "# Test cases and variable bindings\n",
        "expression_a = '& 1 & 1 a'\n",
        "expression_b = '=> 0 & b ~alice'\n",
        "expression_c = '<=> foo 1'\n",
        "bindings = {'foo': 0, 'alice': 0, 'a': 0, 'b': 0}\n",
        "\n",
        "print(evaluate_prefix_recursive(bindings, expression_a))  # Output: 0\n",
        "print(evaluate_prefix_recursive(bindings, expression_b))  # Output: 1\n",
        "print(evaluate_prefix_recursive(bindings, expression_c))  # Output: 0"
      ]
    },
    {
      "cell_type": "markdown",
      "metadata": {
        "id": "NdpnKLkWv7Pf"
      },
      "source": [
        "# QUESTION 4 (EXPECTED)"
      ]
    },
    {
      "cell_type": "markdown",
      "metadata": {
        "id": "mFaSvgUwv7Pf"
      },
      "source": [
        "\n",
        "Using the recursive prefix evaluator you defined in the previous question\n",
        "answer the following question (you will need to convert the exressions below\n",
        "to prefix). You can use multiple string assignments to assemble more complicated\n",
        "sentences into one big string:\n",
        "\n",
        "\n",
        "Let A be the formula:\n",
        "\n",
        "\\begin{equation}\n",
        "  (( p_{1} \\rightarrow (p2 \\land p_{3})) \\land ((\\neg p_{1})\n",
        "  \\rightarrow (p_{3} \\land p_{4})))\n",
        "\\end{equation}\n",
        "\n",
        "Let B be the formula:\n",
        "\n",
        "\\begin{equation}\n",
        "  (( p_{3} \\rightarrow (\\neg p_{6})) \\land ((\\neg\n",
        "  p_{3}) \\rightarrow (p_{4} \\rightarrow p_{1})))  \n",
        "\\end{equation}\n",
        "\n",
        "Let C be the formula:\n",
        "\n",
        "\\begin{equation}\n",
        "  ((\\neg(p2 \\land p_{5})) \\land (p2 \\rightarrow p_{5}))\n",
        "\\end{equation}\n",
        "\n",
        "Let D be the formula:\n",
        "\n",
        "\\begin{equation}\n",
        "  (\\neg (p_{3} \\rightarrow p_{6}))\n",
        "\\end{equation}\n",
        "\n",
        "Evaluate the formulate E:\n",
        "\\begin{equation}\n",
        "  (( A \\land (B \\land C)) \\rightarrow D)\n",
        "\\end{equation}\n",
        "\n",
        "under the true assignment $I_{1}$, where $I_{1}(p_{1}) = I_{1}(p_{3}) = I_{1}(p_{5}) = false$\n",
        "and $I_{1}(p2) = I_{1}(p_{4}) = I_{1}(p_{6}) = true$ as well as under the truth assignment\n",
        "$I_{2}$, where $I_{2}(p_{1}) = I_{2}(p_{3}) = I_{2}(p_{5}) = true$ and\n",
        "$I_{2}(p_{2})=I_{2}(p_{4})=I_{2}(p_{6}) = false$.\n"
      ]
    },
    {
      "cell_type": "code",
      "execution_count": 90,
      "metadata": {
        "id": "sRLZeE5Kv7Pg",
        "outputId": "2c9a95cd-50ce-4dc2-edb9-ddc7bb948cd1",
        "colab": {
          "base_uri": "https://localhost:8080/",
          "height": 407
        }
      },
      "outputs": [
        {
          "output_type": "error",
          "ename": "ValueError",
          "evalue": "ignored",
          "traceback": [
            "\u001b[0;31m---------------------------------------------------------------------------\u001b[0m",
            "\u001b[0;31mValueError\u001b[0m                                Traceback (most recent call last)",
            "\u001b[0;32m<ipython-input-90-5a4a06e5cd0a>\u001b[0m in \u001b[0;36m<cell line: 29>\u001b[0;34m()\u001b[0m\n\u001b[1;32m     27\u001b[0m \u001b[0;34m\u001b[0m\u001b[0m\n\u001b[1;32m     28\u001b[0m \u001b[0;31m# Evaluate formula E using the defined prefix expressions and truth assignments\u001b[0m\u001b[0;34m\u001b[0m\u001b[0;34m\u001b[0m\u001b[0m\n\u001b[0;32m---> 29\u001b[0;31m \u001b[0mresult_I1\u001b[0m \u001b[0;34m=\u001b[0m \u001b[0mevaluate_prefix_recursive\u001b[0m\u001b[0;34m(\u001b[0m\u001b[0mI1\u001b[0m\u001b[0;34m,\u001b[0m \u001b[0mexpression_E\u001b[0m\u001b[0;34m.\u001b[0m\u001b[0mreplace\u001b[0m\u001b[0;34m(\u001b[0m\u001b[0;34m'A'\u001b[0m\u001b[0;34m,\u001b[0m \u001b[0mexpression_A\u001b[0m\u001b[0;34m)\u001b[0m\u001b[0;34m.\u001b[0m\u001b[0mreplace\u001b[0m\u001b[0;34m(\u001b[0m\u001b[0;34m'B'\u001b[0m\u001b[0;34m,\u001b[0m \u001b[0mexpression_B\u001b[0m\u001b[0;34m)\u001b[0m\u001b[0;34m.\u001b[0m\u001b[0mreplace\u001b[0m\u001b[0;34m(\u001b[0m\u001b[0;34m'C'\u001b[0m\u001b[0;34m,\u001b[0m \u001b[0mexpression_C\u001b[0m\u001b[0;34m)\u001b[0m\u001b[0;34m.\u001b[0m\u001b[0mreplace\u001b[0m\u001b[0;34m(\u001b[0m\u001b[0;34m'D'\u001b[0m\u001b[0;34m,\u001b[0m \u001b[0mexpression_D\u001b[0m\u001b[0;34m)\u001b[0m\u001b[0;34m)\u001b[0m\u001b[0;34m\u001b[0m\u001b[0;34m\u001b[0m\u001b[0m\n\u001b[0m\u001b[1;32m     30\u001b[0m \u001b[0mresult_I2\u001b[0m \u001b[0;34m=\u001b[0m \u001b[0mevaluate_prefix_recursive\u001b[0m\u001b[0;34m(\u001b[0m\u001b[0mI2\u001b[0m\u001b[0;34m,\u001b[0m \u001b[0mexpression_E\u001b[0m\u001b[0;34m.\u001b[0m\u001b[0mreplace\u001b[0m\u001b[0;34m(\u001b[0m\u001b[0;34m'A'\u001b[0m\u001b[0;34m,\u001b[0m \u001b[0mexpression_A\u001b[0m\u001b[0;34m)\u001b[0m\u001b[0;34m.\u001b[0m\u001b[0mreplace\u001b[0m\u001b[0;34m(\u001b[0m\u001b[0;34m'B'\u001b[0m\u001b[0;34m,\u001b[0m \u001b[0mexpression_B\u001b[0m\u001b[0;34m)\u001b[0m\u001b[0;34m.\u001b[0m\u001b[0mreplace\u001b[0m\u001b[0;34m(\u001b[0m\u001b[0;34m'C'\u001b[0m\u001b[0;34m,\u001b[0m \u001b[0mexpression_C\u001b[0m\u001b[0;34m)\u001b[0m\u001b[0;34m.\u001b[0m\u001b[0mreplace\u001b[0m\u001b[0;34m(\u001b[0m\u001b[0;34m'D'\u001b[0m\u001b[0;34m,\u001b[0m \u001b[0mexpression_D\u001b[0m\u001b[0;34m)\u001b[0m\u001b[0;34m)\u001b[0m\u001b[0;34m\u001b[0m\u001b[0;34m\u001b[0m\u001b[0m\n\u001b[1;32m     31\u001b[0m \u001b[0;34m\u001b[0m\u001b[0m\n",
            "\u001b[0;32m<ipython-input-89-18a78353a37a>\u001b[0m in \u001b[0;36mevaluate_prefix_recursive\u001b[0;34m(binding, expression)\u001b[0m\n\u001b[1;32m     31\u001b[0m \u001b[0;34m\u001b[0m\u001b[0m\n\u001b[1;32m     32\u001b[0m     \u001b[0mtokens\u001b[0m \u001b[0;34m=\u001b[0m \u001b[0mexpression\u001b[0m\u001b[0;34m.\u001b[0m\u001b[0msplit\u001b[0m\u001b[0;34m(\u001b[0m\u001b[0;34m)\u001b[0m\u001b[0;34m\u001b[0m\u001b[0;34m\u001b[0m\u001b[0m\n\u001b[0;32m---> 33\u001b[0;31m     \u001b[0;32mreturn\u001b[0m \u001b[0mrecurse\u001b[0m\u001b[0;34m(\u001b[0m\u001b[0mtokens\u001b[0m\u001b[0;34m)\u001b[0m\u001b[0;34m\u001b[0m\u001b[0;34m\u001b[0m\u001b[0m\n\u001b[0m\u001b[1;32m     34\u001b[0m \u001b[0;34m\u001b[0m\u001b[0m\n\u001b[1;32m     35\u001b[0m \u001b[0;31m# Test cases and variable bindings\u001b[0m\u001b[0;34m\u001b[0m\u001b[0;34m\u001b[0m\u001b[0m\n",
            "\u001b[0;32m<ipython-input-89-18a78353a37a>\u001b[0m in \u001b[0;36mrecurse\u001b[0;34m(tokens)\u001b[0m\n\u001b[1;32m     28\u001b[0m                 \u001b[0mvalue2\u001b[0m \u001b[0;34m=\u001b[0m \u001b[0mrecurse\u001b[0m\u001b[0;34m(\u001b[0m\u001b[0mtokens\u001b[0m\u001b[0;34m)\u001b[0m\u001b[0;34m\u001b[0m\u001b[0;34m\u001b[0m\u001b[0m\n\u001b[1;32m     29\u001b[0m                 \u001b[0;32mreturn\u001b[0m \u001b[0moperators\u001b[0m\u001b[0;34m[\u001b[0m\u001b[0mtoken\u001b[0m\u001b[0;34m]\u001b[0m\u001b[0;34m(\u001b[0m\u001b[0mint\u001b[0m\u001b[0;34m(\u001b[0m\u001b[0mvalue1\u001b[0m\u001b[0;34m)\u001b[0m\u001b[0;34m,\u001b[0m \u001b[0mint\u001b[0m\u001b[0;34m(\u001b[0m\u001b[0mvalue2\u001b[0m\u001b[0;34m)\u001b[0m\u001b[0;34m)\u001b[0m\u001b[0;34m\u001b[0m\u001b[0;34m\u001b[0m\u001b[0m\n\u001b[0;32m---> 30\u001b[0;31m         \u001b[0;32mreturn\u001b[0m \u001b[0mint\u001b[0m\u001b[0;34m(\u001b[0m\u001b[0mreplace_variables\u001b[0m\u001b[0;34m(\u001b[0m\u001b[0mtoken\u001b[0m\u001b[0;34m)\u001b[0m\u001b[0;34m)\u001b[0m\u001b[0;34m\u001b[0m\u001b[0;34m\u001b[0m\u001b[0m\n\u001b[0m\u001b[1;32m     31\u001b[0m \u001b[0;34m\u001b[0m\u001b[0m\n\u001b[1;32m     32\u001b[0m     \u001b[0mtokens\u001b[0m \u001b[0;34m=\u001b[0m \u001b[0mexpression\u001b[0m\u001b[0;34m.\u001b[0m\u001b[0msplit\u001b[0m\u001b[0;34m(\u001b[0m\u001b[0;34m)\u001b[0m\u001b[0;34m\u001b[0m\u001b[0;34m\u001b[0m\u001b[0m\n",
            "\u001b[0;31mValueError\u001b[0m: invalid literal for int() with base 10: '(=>'"
          ]
        }
      ],
      "source": [
        "## YOUR CODE GOES HERE\n",
        "\n",
        "# I1 = {\n",
        "#     'p1': False,\n",
        "#     'p3': False,\n",
        "#     'p5': False,\n",
        "#     'p2': True,\n",
        "#     'p4': True,\n",
        "#     'p6': True\n",
        "# }\n",
        "\n",
        "# I2 = {\n",
        "#     'p1': True,\n",
        "#     'p3': True,\n",
        "#     'p5': True,\n",
        "#     'p2': False,\n",
        "#     'p4': False,\n",
        "#     'p6': False\n",
        "# }\n",
        "\n",
        "# # Define the logical expressions A, B, C, D, and E in prefix notation\n",
        "# expression_A = \"& => p1 & p2 p3 => ~p1 & p3 p4\"\n",
        "# expression_B = \"& => p3 ~p6 => ~p3 => p4 p1\"\n",
        "# expression_C = \"& ~ & p2 p5 => p2 p5\"\n",
        "# expression_D = \"~ => p3 p6\"\n",
        "# expression_E = \"(=> (& A (& B C)) D)\"\n",
        "\n",
        "# # Evaluate formula E using the defined prefix expressions and truth assignments\n",
        "# result_I1 = evaluate_prefix_recursive(I1, expression_E.replace('A', expression_A).replace('B', expression_B).replace('C', expression_C).replace('D', expression_D))\n",
        "# result_I2 = evaluate_prefix_recursive(I2, expression_E.replace('A', expression_A).replace('B', expression_B).replace('C', expression_C).replace('D', expression_D))\n",
        "\n",
        "# # Display the results\n",
        "# print(f\"Result under truth assignment I1: {result_I1}\")  # Output: Result under truth assignment I1: 1\n",
        "# print(f\"Result under truth assignment I2: {result_I2}\")  # Output: Result under truth assignment I2: 1\n",
        "\n"
      ]
    },
    {
      "cell_type": "markdown",
      "metadata": {
        "id": "amONbZjiZQ95"
      },
      "source": [
        "# QUESTION 5 (ADVANCED)\n",
        "\n",
        "Implement inference using model-checking using your prefix recursive evaluator to decide whether a knowledge base KB entais some sentence a. To do so express the knowledge base in the prefix notation, enumerate all models for the variables in the dictionary, and check that the sentence a is true in every model in which the KB is true.\n",
        "\n",
        "You can check the implementation to tt_entails in logic.ipynb in the aima_python repository to inform how you implement your solution. Your solution should NOT rely directly on any code in logic.py or logic.ipynb.\n",
        "\n",
        "Check you model checking by showing whether A & (B | C) & D & E & (~F & ~G) entails A & D & E & ~F & ~G.\n",
        "You will need to convert this example to prefix notation. It is also a good idea to check a\n",
        "few simple cases to confirm that your approach works.\n"
      ]
    },
    {
      "cell_type": "code",
      "execution_count": null,
      "metadata": {
        "id": "lUWa-gqEZQ95"
      },
      "outputs": [],
      "source": [
        "# YOUR CODE GOES HERE\n"
      ]
    },
    {
      "cell_type": "markdown",
      "metadata": {
        "id": "Md-HTwtoZQ97"
      },
      "source": [
        "# Extra ideas (no credit)\n",
        "\n",
        "* Implement conversion of the prefix expressions to prefix conjuctive normal form (CNF) based on the recursive evaluator you have implemented.\n",
        "* Based on the recursive evaluator you have implemented do a conversion of expressions in prefix notation to the infix notation of expressions supported by logic.ipynb. Provide 4 test cases that demonstrate the the conversion works by confirming that the result of your evaluator and the logic.ipynb evaluator are the same.\n",
        "\n"
      ]
    },
    {
      "cell_type": "markdown",
      "metadata": {
        "id": "7gNoHzZTZQ97"
      },
      "source": [
        "# Question 6 (Basic)\n",
        "\n",
        "Consider the following propositional logic knowledge base.\n",
        "\n",
        "It is not sunny this afternoon and it is colder than yesterday.\n",
        "We will go swimming only if it is sunny.\n",
        "If we do not go swimming then we will take a canoe trip.\n",
        "If we take a canoe trip, then we will be home by sunset.\n",
        "Denote:\n",
        "\n",
        "* p = It is sunny this afternoon\n",
        "* q = it is colder than yesterday\n",
        "* r = We will go swimming\n",
        "* s= we will take a canoe trip\n",
        "* t= We will be home by sunset\n",
        "\n",
        "Express this knowledge base using propositional logic using the expression syntax used in logic.ipynb. You can incoprorate any code you need from logic.ipynb and logic.py. Using both model checking and theorem proving inference (you can use the implementations providedin logic.py) show that this knowledge base entails the sentence if it is not sunny this afternoon then we will be home by sunset."
      ]
    },
    {
      "cell_type": "code",
      "execution_count": null,
      "metadata": {
        "id": "s_Ko4rMeZQ98"
      },
      "outputs": [],
      "source": [
        "# YOUR CODE GOES HERE\n",
        "\n"
      ]
    },
    {
      "cell_type": "markdown",
      "metadata": {
        "id": "ft_quDCLZQ99"
      },
      "source": [
        "# Question 7 (Basic)  \n",
        "\n",
        "Encode the kindship domain described in section 8.3.2 of the textbook using FOL and FolKB implementation in logic.py and encode as facts the relationships between the members of the Simpsons family from the popular TV show:  \n",
        "\n",
        "https://en.wikipedia.org/wiki/Simpson_family\n",
        "\n",
        "\n",
        "Show how the following queries can be answered using this KB:\n",
        "\n",
        "* Who are the children of Homer ?\n",
        "* Who are the parents of Bart ?\n",
        "* Are Lisa and Homer siblings ?\n",
        "* Are Lisa and Bart siblings ?\n"
      ]
    },
    {
      "cell_type": "code",
      "execution_count": null,
      "metadata": {
        "id": "rs5LwmMMZQ9-"
      },
      "outputs": [],
      "source": [
        "# YOUR CODE GOES HERE"
      ]
    },
    {
      "cell_type": "markdown",
      "metadata": {
        "id": "sxyeIMG6ZQ9_"
      },
      "source": [
        "# QUESTION 8 (EXPECTED)\n",
        "\n",
        "In this question we explore Prolog which is a programming language based on logic. We won't go into details but just wanted to give you a flavor of the syntax and how it connects to what we have learned. For this question you\n",
        "will NOT be using the notebook so your answer should just be the source code. We will use http://tau-prolog.org/ which is a Prolog implementation that can run in a browser. When you access the webpage there is a text window labeled try it for entering your knowledge base and under it t\n",
        "here is a text entry field for entering your query.\n",
        "\n",
        "For example type in the Try it window and press enter:\n",
        "\n",
        "```Prolog\n",
        "likes(sam, salad).\n",
        "likes(dean, pie).\n",
        "likes(sam, apples).\n",
        "likes(dean, whiskey).\n",
        "```\n",
        "\n",
        "Then enter the query:\n",
        "```Prolog\n",
        "likes(sam,X).\n",
        "```\n",
        "When you press Enter once you will get X=apples. and X=salad. Note the periods at the end of each statement.\n",
        "\n",
        "Encode the kinship domain from the previous question in Prolog and answer the queries from the previous question. Notice that in Prolog the constants start with lower case letters and the variables start with upper case letters.\n",
        "\n",
        "Provide your code for the KB and queries using markup. See the syntax for Prolog of this cell by double clicking for editing.\n",
        "\n"
      ]
    },
    {
      "cell_type": "code",
      "execution_count": null,
      "metadata": {
        "id": "awy_8TiLZQ-A"
      },
      "outputs": [],
      "source": [
        "# YOUR CODE GOES HERE (USING MARKDOWN)"
      ]
    },
    {
      "cell_type": "markdown",
      "metadata": {
        "id": "zqIk8NBfZQ-C"
      },
      "source": [
        "# QUESTION 9 (EXPECTED)\n",
        "\n",
        "\n",
        "## Legoworld\n",
        "\n",
        "\n",
        "In this question we explore the use of FOL to encode knowledge about the objects\n",
        "and arrangement of a simple world created by different lego pieces. Our world\n",
        "will consist of making simple structure by placing lego pieces on top of each other.\n",
        "Each lego piece will be identified by a unique identifier (the letters in the figure below).\n",
        "\n",
        "Let's look at a specific example where each piece is labeled by a letter:\n",
        "\n",
        "<img src=\"https://github.com/alexwholland/CSC-421/blob/main/Assignment%202/lego_letters.png?raw=1\" width=\"60%\"/>\n",
        "\n",
        "This corresponds to the following picture:\n",
        "\n",
        "<img src=\"https://github.com/alexwholland/CSC-421/blob/main/Assignment%202/lego2.png?raw=1\" width=\"60%\"/>\n",
        "\n",
        "\n",
        "\n",
        "We can use the following predicates to model the world:\n",
        "* OnPlate(p): p is attached to the bottom plate\n",
        "* On(p1,p2): piece p1 is placed on top of piece p2\n",
        "* AtLeft(p1,p2): piece p1 and piece p2 are placed on the plate, and piece p1 is direct at the left of p2\n",
        "* Color(p,c): The color of piece p is c (Red, Grey, Brown, White, Yellow, Blue)\n",
        "* Type(p,t): The type of piece p is t (Brick, Plate, Tile)\n",
        "\n",
        "<img src=\"https://github.com/alexwholland/CSC-421/blob/main/Assignment%202/lego3.png?raw=1\" width=\"20%\"/>\n",
        "\n",
        "\n",
        "Each pieces will be identified by the letters appearing in the picture. The thicker brick with studs will have type  Brick, the thinner brick with studs is of type Plate, and the one that is flat on the top is of type Tile.\n",
        "\n",
        "\n",
        "Use the FO KB implementation in logic.py to:\n",
        "\n",
        "1. Write a database of facts which models the world in the picture. For example you can use clauses.append(expr('TypeOf(A,Brick)')) to state that lego piece A is a Brick.\n",
        "\n",
        "2. Based exclusively on using these predicates (OnPlate, On, AtLeft), define the following predicates:\n",
        "    * Base(b1, b2): b2 is the base of the tower containing b1.\n",
        "    * Base_at_right(b1, b2): b1 and b2 are on the plate, and b2 is at the right (but perhaps not directly) of b1.\n",
        "    * Object_at_right(b1, b2): b1 is in a pile which is at the right (but perhaps not directly) of b2.\n",
        "    \n",
        "    \n",
        "The above predicates must work for any world defined using the facts specified by on_plate, on,\n",
        "at_left not just the specific example encoded above. In other words these predicates should be defined\n",
        "in terms of the existing predicates and variables. As an example here is the definition of Base.\n",
        "\n",
        "    * clauses.append(expr('OnPlate(x) ==> Base(x,x)'))\n",
        "    * clauses.append(expr('On(x,z) & Base (z,y) ==> Base(x,y)'))\n",
        "    \n",
        "This is a recursive definition it is a good idea to see how it works by doing substitutions by hand.\n",
        "\n",
        "\n",
        "3. Using the KB you created answer the following queries:\n",
        "    * Is piece B on top of piece C?\n",
        "    * What is the type and color of the piece on top of C?\n",
        "    * What is the type of the base of H?\n",
        "    * What are the bricks that are right of C?\n",
        "    * What are all the bricks that are on top of i ?\n",
        "\n",
        "\n",
        "\n",
        "\n"
      ]
    },
    {
      "cell_type": "markdown",
      "metadata": {
        "id": "jlrXwD-bZQ-C"
      },
      "source": [
        "# QUESTION 10 (ADVANCED)\n",
        "\n",
        "\n",
        "This question is more advanced and open ended. I provide two options. You only need to implement one\n",
        "of the two options to get full credit for this question. You are welcome to implement both but\n",
        "you will still get 1 point.\n",
        "\n",
        "## Option 1\n",
        "\n",
        "Extend the Legoworld knowledge base with a predicate to determine if a brick is part of an unstable\n",
        "tower. Any brick placed on top of a tile results in an unstable tower. For example the brown plate\n",
        "and grey brick in the middle are unstable but the red brick under the tile in the middle is stable.\n",
        "This is a trickier predicate to define so show a few cases to ensure that it works as expected.\n",
        "\n",
        "<img src=\"https://github.com/alexwholland/CSC-421/blob/main/Assignment%202/lego1.png?raw=1\" width=\"40%\"/>\n",
        "\n",
        "Provide a simple natural language processing interface to the LegoWorld that takes input from\n",
        "the user and returns the results in more natural lanuage. For example you could have the following\n",
        "dialog:\n",
        "\n",
        "* User: What color is brick B ?\n",
        "* Computer: Brick B is Red.\n",
        "* User: Is there a brick that is on top of a tile?\n",
        "* Computer: Yes, brick D is on top of a tile.\n",
        "etc\n",
        "\n",
        "You will basically write a simple translation layer from simplified English to FOL tell and ask requests and back to simplified English.\n",
        "\n",
        "\n",
        "This question is inspired by the classic natural understanding work using logic: https://en.wikipedia.org/wiki/SHRDLU\n",
        "\n",
        "\n",
        "\n",
        "## Option 2\n",
        "\n",
        "\n",
        "This question explores the automatic constructions of a first-order logic knowledge base from a web resource and is more open ended than the other ones. The website https://www.songfacts.com/ contains a large variety of facts about music. Check the https://www.songfacts.com/categories link for some categories. Using selenium Python bindings https://selenium-python.readthedocs.io/ access the webpage and scrape at least three categories. Your code should scrape the information from the pages and convert it into relationships and facts in first-order logic using the syntax of expressions in logic.ipynb. Once you build your knowledge-base then write 4 non-trivial queries that show-case the expressiveness of FOL. These queries should not be possible to be answered easily using the web interface i.e they should have some logical connectives, more than one possible answer etc. The translation of the song facts from the web page to FOL should NOT be done by hand but using the web scraping tool you develop. You can use multiple cells in your answer."
      ]
    },
    {
      "cell_type": "code",
      "execution_count": null,
      "metadata": {
        "id": "vRJDGqqVZQ-D"
      },
      "outputs": [],
      "source": []
    },
    {
      "cell_type": "code",
      "execution_count": null,
      "metadata": {
        "id": "qmxSbh41ZQ-F"
      },
      "outputs": [],
      "source": []
    },
    {
      "cell_type": "code",
      "execution_count": null,
      "metadata": {
        "id": "zlox7svwZQ-F"
      },
      "outputs": [],
      "source": []
    },
    {
      "cell_type": "code",
      "execution_count": null,
      "metadata": {
        "id": "HQJH9VqBZQ-F"
      },
      "outputs": [],
      "source": []
    }
  ],
  "metadata": {
    "kernelspec": {
      "display_name": "Python 3 (ipykernel)",
      "language": "python",
      "name": "python3"
    },
    "language_info": {
      "codemirror_mode": {
        "name": "ipython",
        "version": 3
      },
      "file_extension": ".py",
      "mimetype": "text/x-python",
      "name": "python",
      "nbconvert_exporter": "python",
      "pygments_lexer": "ipython3",
      "version": "3.10.12"
    },
    "colab": {
      "provenance": []
    }
  },
  "nbformat": 4,
  "nbformat_minor": 0
}