{
  "cells": [
    {
      "cell_type": "markdown",
      "metadata": {
        "id": "EeemmH66ZQ9O"
      },
      "source": [
        "# CSC421 Fall 2023 Assignment 2\n",
        "### Author: George Tzanetakis\n",
        "\n",
        "This notebook is based on the supporting material for topics covered in **Chapter 7 - Logical Agents** and **Chapter 8 - First-Order Logic** from the book *Artificial Intelligence: A Modern Approach.* You can consult and modify the textbook code provided in logic.py and logic.ipynb for completing the assignment questions. The first 5 questions do NOT rely on the provided aima code so you can complete them just using basic Python. Questions 6 and 7 do require the use of the aima-code repository.\n",
        "\n",
        "You are welcome and actually it can be educational to look at the code at the aima-code repository as well as other code resources you can find on the web. However, make sure you understand any code that you incoporate.\n",
        "\n",
        "Each question is worth 1% of the total grade. The advanced questions require significantly more\n",
        "effort than the basic and expected questions. The assignment structure is as follows:\n",
        "\n",
        "1. Propositional Logic (Basic) - simple infix evaluator for 0, 1 and logical operators\n",
        "2. Propositional Logic (Basic) - adding variables and bindings to evaluator\n",
        "3. Propositional Logic (Expected) - recursive infix evaluator for propositional logic\n",
        "4. Propositional Logic (Expected) - usage of evaluator to evaluate some example logic expressions\n",
        "5. Propositional Logic (Advanced) - model checking for the prefix evaluator\n",
        "6. Propositional Logic(Basic) - simple KB using aima code with model checking and theorem proving\n",
        "7. First-Order Logic (Basic) - kinship domain using FolKB for the Simpsons\n",
        "8. First-Order Logic (Expected) - kinship domain using Prolog for the Simpsons\n",
        "9. First-Order Logic (Expected) - LegoWorld\n",
        "10. First-Order Logic (Advanced) - NLP for LegoWorld or webscraping a KB for music  \n",
        "\n",
        "```\n",
        "Birds can fly, unless they are penguins and ostriches, or if they happen\n",
        "to be dead, or have broken wings, or are confined to cages, or have their\n",
        "feet stuck in cement, or have undergone experiences so dreadful as to render\n",
        "them psychologically incapable of flight\n",
        "\n",
        "Marvin Minsky\n",
        "```"
      ]
    },
    {
      "cell_type": "markdown",
      "metadata": {
        "id": "7DxoSpuxZQ9W"
      },
      "source": [
        "# Introduction - Parsing and evaluating prefix logic expressions  \n",
        "\n",
        "In this assignment your task is to incrementally create a parser and evaluator for prefix logic expressions as well as implement simple model checking.\n"
      ]
    },
    {
      "cell_type": "markdown",
      "metadata": {
        "id": "UAD_ybj6ZQ9Z"
      },
      "source": [
        "# Question 1 (Basic)\n",
        "\n",
        "Your first task will be to write a simple evaluator of prefix logic expressions with constants. In prefix notation the operator precedes the operands and no operands are required. For example 5+3 in prefix notation is written + 5 3 or 5 * 2 + 3 would be written + * 5 2 3 or + * 5 2 * 3 4 is equivalent to (5 * 2) + (3 * 4)."
      ]
    },
    {
      "cell_type": "markdown",
      "metadata": {
        "id": "YhPCuL4XZQ9b"
      },
      "source": [
        "As a first step we will consider very simple expressions with one operator and two constant operands. We will use 0 for false and 1 for true. The following logical connectives should be implemented (see Figure 7.8 in your book) (notice that for now there is no negation symbol ~):\n",
        "\n",
        "1. &    (and),\n",
        "3. |    (or),\n",
        "4. =>   (implication)\n",
        "5. <=>  (biconditional)\n",
        "\n",
        "Example expressions:\n",
        "```\n",
        "& 1 0  \n",
        "=> 0 1\n",
        "<=> 1 1\n",
        "```\n",
        "\n",
        "Your function should take as input a string with the prefix expression and return the result of evaluating the expression (basically a 1 for true and 0 for false). You can split a string to a list using .split[' ']. For this part of the assignment you only evaluate expressions with two constant operands i.e no nested/recursive expressions."
      ]
    },
    {
      "cell_type": "code",
      "execution_count": 121,
      "metadata": {
        "id": "phpxF8qXZQ9e",
        "outputId": "b2edba3e-715c-4c2d-f170-295910a542db",
        "colab": {
          "base_uri": "https://localhost:8080/"
        }
      },
      "outputs": [
        {
          "output_type": "stream",
          "name": "stdout",
          "text": [
            "['&', '1', '0']\n"
          ]
        }
      ],
      "source": [
        "a = '& 1 0'\n",
        "print(a.split(' '))"
      ]
    },
    {
      "cell_type": "code",
      "execution_count": 122,
      "metadata": {
        "id": "82VHz97vZQ9k",
        "outputId": "672d017e-7005-4efa-8256-fd5f76e50499",
        "colab": {
          "base_uri": "https://localhost:8080/"
        }
      },
      "outputs": [
        {
          "output_type": "stream",
          "name": "stdout",
          "text": [
            "0\n",
            "1\n",
            "1\n",
            "1\n"
          ]
        }
      ],
      "source": [
        "# YOUR CODE GOES HERE\n",
        "def evaluate_prefix_expression(expression):\n",
        "    tokens = expression.split()\n",
        "\n",
        "    # Operator mapping to their corresponding functions\n",
        "    operators = {\n",
        "        '&': lambda x, y: x & y,\n",
        "        '|': lambda x, y: x | y,\n",
        "        '=>': lambda x, y: (not x) or y,\n",
        "        '<=>': lambda x, y: (x and y) or (not x and not y)\n",
        "    }\n",
        "\n",
        "    operator = tokens[0]\n",
        "    operand1 = int(tokens[1])\n",
        "    operand2 = int(tokens[2])\n",
        "\n",
        "    if operator not in operators:\n",
        "        return \"Invalid operator\"\n",
        "\n",
        "    result = operators[operator](operand1, operand2)\n",
        "\n",
        "    result = 1 if result else 0\n",
        "\n",
        "    return result\n",
        "\n",
        "# Example usage:\n",
        "exp1 = '& 1 0'\n",
        "exp2 = '| 0 1'\n",
        "exp3 =  '=> 0 1'\n",
        "exp4 = '<=> 1 1'\n",
        "\n",
        "print(evaluate_prefix_expression(exp1))\n",
        "print(evaluate_prefix_expression(exp2))\n",
        "print(evaluate_prefix_expression(exp3))\n",
        "print(evaluate_prefix_expression(exp4))\n"
      ]
    },
    {
      "cell_type": "markdown",
      "metadata": {
        "id": "lGiJlVo1ZQ9m"
      },
      "source": [
        "# Question 2 (Basic)\n",
        "\n",
        "Your next task is to implement variables and bindings for your propositional logic evaluator. In this version in addition to constants (0 and 1) you also can have variables which are strings with associated values provided in a dictionary. You still only consider two operands and one operator (no nesting). For example in the code below\n",
        "the three expressions are equivalent. Your function should take as arguments the expression to be evaluated as a string and the dictionary with the variable bindings. In addition you need to add the ~ (not) operator. To do so for each variable in the dictionary add a not version. For example if 'a' in the dictionary has a value of 1 the '~a' in the dictionary should have a value of 0. Notice that the not symbol is part of the string and it is NOT separated by a space.\n",
        "\n"
      ]
    },
    {
      "cell_type": "code",
      "execution_count": 123,
      "metadata": {
        "id": "KfiPDQhzZQ9o",
        "outputId": "cf4c8e7a-5d05-4445-8c43-6eac2863f544",
        "colab": {
          "base_uri": "https://localhost:8080/"
        }
      },
      "outputs": [
        {
          "output_type": "stream",
          "name": "stdout",
          "text": [
            "{'foo': 0, 'b': 1}\n"
          ]
        }
      ],
      "source": [
        "d = {'foo': 0, 'b': 1}\n",
        "print(d)\n",
        "expr1 = '& 0 1'\n",
        "expr2 = '& foo 1'\n",
        "expr3 = '& foo ~b'"
      ]
    },
    {
      "cell_type": "code",
      "execution_count": 124,
      "metadata": {
        "scrolled": true,
        "id": "gqYVNi1fZQ9r",
        "colab": {
          "base_uri": "https://localhost:8080/"
        },
        "outputId": "a00837eb-0ee6-4ed5-fb72-9c035f1ecfb7"
      },
      "outputs": [
        {
          "output_type": "stream",
          "name": "stdout",
          "text": [
            "{'foo': 0, 'b': 0}\n",
            "1\n",
            "0\n",
            "1\n"
          ]
        }
      ],
      "source": [
        "# YOUR CODE GOES HERE\n",
        "def evaluate_prefix_expression_with_variables(expression, bindings):\n",
        "    tokens = expression.split()\n",
        "\n",
        "    operators = {\n",
        "        '&': lambda x, y: x & y,\n",
        "        '|': lambda x, y: x | y,\n",
        "        '=>': lambda x, y: (not x) or y,\n",
        "        '<=>': lambda x, y: (x and y) or (not x and not y)\n",
        "    }\n",
        "\n",
        "    def evaluate_token(token):\n",
        "        if token.isdigit():\n",
        "            return int(token)\n",
        "        elif token.startswith('~'):\n",
        "            return 1 - bindings[token[1:]]  # Get the not version from the bindings\n",
        "        else:\n",
        "            return bindings[token]\n",
        "\n",
        "    operator = tokens[0]\n",
        "    operand1 = evaluate_token(tokens[1])\n",
        "    operand2 = evaluate_token(tokens[2])\n",
        "\n",
        "    if operator not in operators:\n",
        "        return \"Invalid operator\"\n",
        "\n",
        "    result = operators[operator](operand1, operand2)\n",
        "    result = 1 if result else 0\n",
        "\n",
        "    return result\n",
        "\n",
        "# Example usage:\n",
        "d = {'foo': 0, 'b': 0}\n",
        "print(d)\n",
        "expr1 = '& ~b 1'\n",
        "expr2 = '& foo 1'\n",
        "expr3 = '& ~foo ~b'\n",
        "\n",
        "print(evaluate_prefix_expression_with_variables(expr1, d))\n",
        "print(evaluate_prefix_expression_with_variables(expr2, d))\n",
        "print(evaluate_prefix_expression_with_variables(expr3, d))\n",
        "\n"
      ]
    },
    {
      "cell_type": "markdown",
      "metadata": {
        "id": "trBiPmDTZQ9u"
      },
      "source": [
        "# Question 3 (Expected)\n",
        "\n",
        "\n",
        "The following code is a recursive evaluator for prefix arithmetic expressions. It assumes that there are always two operands either an integer or a prefix expression starting with an operator (addition or multiplication). It is a good idea to go through this function carefully by hand to understand how the recursion works.\n",
        "\n",
        "Informed by your understanding of the arithmetic recursive_eval function your task is to write function to implement a recursive prefix logic evaluator. Your evaluator should also support variables bindings using a dictionary as in the previous question.\n",
        "\n",
        "Example expressions:\n",
        "```\n",
        "& 1 & 1 a   \n",
        "=> 0 & b ~alice  \n",
        "<=> foo 1\n",
        "```"
      ]
    },
    {
      "cell_type": "code",
      "execution_count": 125,
      "metadata": {
        "id": "rADAXWjJZQ9w",
        "colab": {
          "base_uri": "https://localhost:8080/"
        },
        "outputId": "8caee448-8a70-43a1-bc48-aa837b2a45ba"
      },
      "outputs": [
        {
          "output_type": "stream",
          "name": "stdout",
          "text": [
            "1\n",
            "3\n",
            "7\n",
            "28\n"
          ]
        }
      ],
      "source": [
        "def recursive_eval(l):\n",
        "    head, tail = l[0], l[1:]\n",
        "    if head in ['+', '*']:\n",
        "        val1, tail = recursive_eval(tail)\n",
        "        val2, tail = recursive_eval(tail)\n",
        "        if head == '+':\n",
        "            return (int(val1)+int(val2), tail)\n",
        "        elif head == '*':\n",
        "            return (int(val1)*int(val2), tail)\n",
        "    # operator is a number\n",
        "    else:\n",
        "        return (int(head),tail)\n",
        "\n",
        "def prefix_eval(input_str):\n",
        "    input_list = input_str.split(' ')\n",
        "    res, tail = recursive_eval(input_list)\n",
        "    return res\n",
        "\n",
        "print(prefix_eval('1'))\n",
        "print(prefix_eval('+ 1 2'))\n",
        "print(prefix_eval('+ 1 * 2 3'))\n",
        "print(prefix_eval('+ * 5 2 * 3 + 1 5'))"
      ]
    },
    {
      "cell_type": "code",
      "execution_count": 126,
      "metadata": {
        "scrolled": true,
        "id": "LUmOYM8eZQ90",
        "colab": {
          "base_uri": "https://localhost:8080/"
        },
        "outputId": "796367b9-b4e3-41fa-c2f3-fac822a0d8bb"
      },
      "outputs": [
        {
          "output_type": "stream",
          "name": "stdout",
          "text": [
            "0\n",
            "1\n",
            "0\n"
          ]
        }
      ],
      "source": [
        "# YOUR CODE GOES HERE\n",
        "\n",
        "def evaluate_prefix_recursive(binding, expression):\n",
        "    def replace_variables(token):\n",
        "        if token.startswith('~'):\n",
        "            return str(int(not binding[token[1:]]))\n",
        "        return str(binding[token]) if token in binding else token\n",
        "\n",
        "    tokens = expression.split()\n",
        "    operators = {\n",
        "        '&': lambda x, y: x and y,\n",
        "        '|': lambda x, y: x or y,\n",
        "        '=>': lambda x, y: 1 if x <= y else 0,\n",
        "        '<=>': lambda x, y: 1 if x == y else 0\n",
        "    }\n",
        "\n",
        "    def evaluate(tokens):\n",
        "        if not tokens:\n",
        "            return None\n",
        "\n",
        "        token = tokens.pop(0)\n",
        "\n",
        "        if token in operators:\n",
        "            value1 = evaluate(tokens)\n",
        "            value2 = evaluate(tokens)\n",
        "            return operators[token](int(value1), int(value2))\n",
        "\n",
        "        return int(replace_variables(token))\n",
        "\n",
        "    result = evaluate(tokens)\n",
        "    return result\n",
        "\n",
        "# Test cases and variable bindings\n",
        "expression_a = '& 1 & 1 a'\n",
        "expression_b = '=> 0 & b ~alice'\n",
        "expression_c = '<=> foo 1'\n",
        "bindings = {'foo': 0, 'alice': 0, 'a': 0, 'b': 0}\n",
        "\n",
        "print(evaluate_prefix_recursive(bindings, expression_a))  # Output: 0\n",
        "print(evaluate_prefix_recursive(bindings, expression_b))  # Output: 1\n",
        "print(evaluate_prefix_recursive(bindings, expression_c))  # Output: 0\n",
        "\n",
        "\n"
      ]
    },
    {
      "cell_type": "markdown",
      "metadata": {
        "id": "-v0iMRmeZQ91"
      },
      "source": [
        "# QUESTION 4 (EXPECTED)"
      ]
    },
    {
      "cell_type": "markdown",
      "metadata": {
        "id": "8Eb8wK9uZQ92"
      },
      "source": [
        "\n",
        "Using the recursive prefix evaluator you defined in the previous question\n",
        "answer the following question (you will need to convert the exressions below\n",
        "to prefix). You can use multiple string assignments to assemble more complicated\n",
        "sentences into one big string:\n",
        "\n",
        "\n",
        "Let A be the formula:\n",
        "\n",
        "\\begin{equation}\n",
        "  (( p_{1} \\rightarrow (p2 \\land p_{3})) \\land ((\\neg p_{1})\n",
        "  \\rightarrow (p_{3} \\land p_{4})))\n",
        "\\end{equation}\n",
        "\n",
        "Let B be the formula:\n",
        "\n",
        "\\begin{equation}\n",
        "  (( p_{3} \\rightarrow (\\neg p_{6})) \\land ((\\neg\n",
        "  p_{3}) \\rightarrow (p_{4} \\rightarrow p_{1})))  \n",
        "\\end{equation}\n",
        "\n",
        "Let C be the formula:\n",
        "\n",
        "\\begin{equation}\n",
        "  ((\\neg(p2 \\land p_{5})) \\land (p2 \\rightarrow p_{5}))\n",
        "\\end{equation}\n",
        "\n",
        "Let D be the formula:\n",
        "\n",
        "\\begin{equation}\n",
        "  (\\neg (p_{3} \\rightarrow p_{6}))\n",
        "\\end{equation}\n",
        "\n",
        "Evaluate the formulate E:\n",
        "\\begin{equation}\n",
        "  (( A \\land (B \\land C)) \\rightarrow D)\n",
        "\\end{equation}\n",
        "\n",
        "under the true assignment $I_{1}$, where $I_{1}(p_{1}) = I_{1}(p_{3}) = I_{1}(p_{5}) = false$\n",
        "and $I_{1}(p2) = I_{1}(p_{4}) = I_{1}(p_{6}) = true$ as well as under the truth assignment\n",
        "$I_{2}$, where $I_{2}(p_{1}) = I_{2}(p_{3}) = I_{2}(p_{5}) = true$ and\n",
        "$I_{2}(p_{2})=I_{2}(p_{4})=I_{2}(p_{6}) = false$.\n"
      ]
    },
    {
      "cell_type": "code",
      "execution_count": 127,
      "metadata": {
        "id": "WZBFZjXmZQ93"
      },
      "outputs": [],
      "source": [
        "## YOUR CODDE GOES HERE\n",
        "\n"
      ]
    },
    {
      "cell_type": "markdown",
      "metadata": {
        "id": "3YO3XZH-v7Pd"
      },
      "source": [
        "# Question 3 (Expected)\n",
        "\n",
        "\n",
        "The following code is a recursive evaluator for prefix arithmetic expressions. It assumes that there are always two operands either an integer or a prefix expression starting with an operator (addition or multiplication). It is a good idea to go through this function carefully by hand to understand how the recursion works.\n",
        "\n",
        "Informed by your understanding of the arithmetic recursive_eval function your task is to write function to implement a recursive prefix logic evaluator. Your evaluator should also support variables bindings using a dictionary as in the previous question.\n",
        "\n",
        "Example expressions:\n",
        "```\n",
        "& 1 & 1 a   \n",
        "=> 0 & b ~alice  \n",
        "<=> foo 1\n",
        "```"
      ]
    },
    {
      "cell_type": "code",
      "execution_count": 128,
      "metadata": {
        "colab": {
          "base_uri": "https://localhost:8080/"
        },
        "outputId": "7b1bf320-b83d-4751-d0dd-9948baa59999",
        "id": "YgvJsAEov7Pe"
      },
      "outputs": [
        {
          "output_type": "stream",
          "name": "stdout",
          "text": [
            "1\n",
            "3\n",
            "7\n",
            "28\n"
          ]
        }
      ],
      "source": [
        "def recursive_eval(l):\n",
        "    head, tail = l[0], l[1:]\n",
        "    if head in ['+', '*']:\n",
        "        val1, tail = recursive_eval(tail)\n",
        "        val2, tail = recursive_eval(tail)\n",
        "        if head == '+':\n",
        "            return (int(val1)+int(val2), tail)\n",
        "        elif head == '*':\n",
        "            return (int(val1)*int(val2), tail)\n",
        "    # operator is a number\n",
        "    else:\n",
        "        return (int(head),tail)\n",
        "\n",
        "def prefix_eval(input_str):\n",
        "    input_list = input_str.split(' ')\n",
        "    res, tail = recursive_eval(input_list)\n",
        "    return res\n",
        "\n",
        "print(prefix_eval('1'))\n",
        "print(prefix_eval('+ 1 2'))\n",
        "print(prefix_eval('+ 1 * 2 3'))\n",
        "print(prefix_eval('+ * 5 2 * 3 + 1 5'))"
      ]
    },
    {
      "cell_type": "code",
      "execution_count": 129,
      "metadata": {
        "scrolled": true,
        "colab": {
          "base_uri": "https://localhost:8080/"
        },
        "outputId": "8ff84587-dc37-4be2-8bdb-885b68c815a4",
        "id": "Ui7G_hsCv7Pe"
      },
      "outputs": [
        {
          "output_type": "stream",
          "name": "stdout",
          "text": [
            "0\n",
            "1\n",
            "0\n"
          ]
        }
      ],
      "source": [
        "# YOUR CODE GOES HERE\n",
        "\n",
        "def evaluate_prefix_recursive(binding, expression):\n",
        "    def replace_variables(token):\n",
        "        if token.startswith('~'):\n",
        "            return str(int(not binding[token[1:]]))\n",
        "        return str(binding[token]) if token in binding else token\n",
        "\n",
        "    tokens = expression.split()\n",
        "    operators = {\n",
        "        '&': lambda x, y: x and y,\n",
        "        '|': lambda x, y: x or y,\n",
        "        '=>': lambda x, y: 1 if x <= y else 0,\n",
        "        '<=>': lambda x, y: 1 if x == y else 0\n",
        "    }\n",
        "\n",
        "    def evaluate(tokens):\n",
        "        if not tokens:\n",
        "            return None\n",
        "\n",
        "        token = tokens.pop(0)\n",
        "\n",
        "        if token in operators:\n",
        "            value1 = evaluate(tokens)\n",
        "            value2 = evaluate(tokens)\n",
        "            return operators[token](int(value1), int(value2))\n",
        "\n",
        "        return int(replace_variables(token))\n",
        "\n",
        "    result = evaluate(tokens)\n",
        "    return result\n",
        "\n",
        "# Test cases and variable bindings\n",
        "expression_a = '& 1 & 1 a'\n",
        "expression_b = '=> 0 & b ~alice'\n",
        "expression_c = '<=> foo 1'\n",
        "bindings = {'foo': 0, 'alice': 0, 'a': 0, 'b': 0}\n",
        "\n",
        "print(evaluate_prefix_recursive(bindings, expression_a))  # Output: 0\n",
        "print(evaluate_prefix_recursive(bindings, expression_b))  # Output: 1\n",
        "print(evaluate_prefix_recursive(bindings, expression_c))  # Output: 0"
      ]
    },
    {
      "cell_type": "markdown",
      "metadata": {
        "id": "NdpnKLkWv7Pf"
      },
      "source": [
        "# QUESTION 4 (EXPECTED)"
      ]
    },
    {
      "cell_type": "markdown",
      "metadata": {
        "id": "mFaSvgUwv7Pf"
      },
      "source": [
        "\n",
        "Using the recursive prefix evaluator you defined in the previous question\n",
        "answer the following question (you will need to convert the exressions below\n",
        "to prefix). You can use multiple string assignments to assemble more complicated\n",
        "sentences into one big string:\n",
        "\n",
        "\n",
        "Let A be the formula:\n",
        "\n",
        "\\begin{equation}\n",
        "  (( p_{1} \\rightarrow (p2 \\land p_{3})) \\land ((\\neg p_{1})\n",
        "  \\rightarrow (p_{3} \\land p_{4})))\n",
        "\\end{equation}\n",
        "\n",
        "Let B be the formula:\n",
        "\n",
        "\\begin{equation}\n",
        "  (( p_{3} \\rightarrow (\\neg p_{6})) \\land ((\\neg\n",
        "  p_{3}) \\rightarrow (p_{4} \\rightarrow p_{1})))  \n",
        "\\end{equation}\n",
        "\n",
        "Let C be the formula:\n",
        "\n",
        "\\begin{equation}\n",
        "  ((\\neg(p2 \\land p_{5})) \\land (p2 \\rightarrow p_{5}))\n",
        "\\end{equation}\n",
        "\n",
        "Let D be the formula:\n",
        "\n",
        "\\begin{equation}\n",
        "  (\\neg (p_{3} \\rightarrow p_{6}))\n",
        "\\end{equation}\n",
        "\n",
        "Evaluate the formulate E:\n",
        "\\begin{equation}\n",
        "  (( A \\land (B \\land C)) \\rightarrow D)\n",
        "\\end{equation}\n",
        "\n",
        "under the true assignment $I_{1}$, where $I_{1}(p_{1}) = I_{1}(p_{3}) = I_{1}(p_{5}) = false$\n",
        "and $I_{1}(p2) = I_{1}(p_{4}) = I_{1}(p_{6}) = true$ as well as under the truth assignment\n",
        "$I_{2}$, where $I_{2}(p_{1}) = I_{2}(p_{3}) = I_{2}(p_{5}) = true$ and\n",
        "$I_{2}(p_{2})=I_{2}(p_{4})=I_{2}(p_{6}) = false$.\n"
      ]
    },
    {
      "cell_type": "code",
      "execution_count": 130,
      "metadata": {
        "id": "sRLZeE5Kv7Pg"
      },
      "outputs": [],
      "source": [
        "## YOUR CODE GOES HERE\n",
        "\n",
        "# I1 = {\n",
        "#     'p1': False,\n",
        "#     'p3': False,\n",
        "#     'p5': False,\n",
        "#     'p2': True,\n",
        "#     'p4': True,\n",
        "#     'p6': True\n",
        "# }\n",
        "\n",
        "# I2 = {\n",
        "#     'p1': True,\n",
        "#     'p3': True,\n",
        "#     'p5': True,\n",
        "#     'p2': False,\n",
        "#     'p4': False,\n",
        "#     'p6': False\n",
        "# }\n",
        "\n",
        "# # Define the logical expressions A, B, C, D, and E in prefix notation\n",
        "# expression_A = \"& => p1 & p2 p3 => ~p1 & p3 p4\"\n",
        "# expression_B = \"& => p3 ~p6 => ~p3 => p4 p1\"\n",
        "# expression_C = \"& ~ & p2 p5 => p2 p5\"\n",
        "# expression_D = \"~ => p3 p6\"\n",
        "# expression_E = \"(=> (& A (& B C)) D)\"\n",
        "\n",
        "# # Evaluate formula E using the defined prefix expressions and truth assignments\n",
        "# result_I1 = evaluate_prefix_recursive(I1, expression_E.replace('A', expression_A).replace('B', expression_B).replace('C', expression_C).replace('D', expression_D))\n",
        "# result_I2 = evaluate_prefix_recursive(I2, expression_E.replace('A', expression_A).replace('B', expression_B).replace('C', expression_C).replace('D', expression_D))\n",
        "\n",
        "# # Display the results\n",
        "# print(f\"Result under truth assignment I1: {result_I1}\")  # Output: Result under truth assignment I1: 1\n",
        "# print(f\"Result under truth assignment I2: {result_I2}\")  # Output: Result under truth assignment I2: 1\n",
        "\n"
      ]
    },
    {
      "cell_type": "markdown",
      "metadata": {
        "id": "amONbZjiZQ95"
      },
      "source": [
        "# QUESTION 5 (ADVANCED)\n",
        "\n",
        "Implement inference using model-checking using your prefix recursive evaluator to decide whether a knowledge base KB entais some sentence a. To do so express the knowledge base in the prefix notation, enumerate all models for the variables in the dictionary, and check that the sentence a is true in every model in which the KB is true.\n",
        "\n",
        "You can check the implementation to tt_entails in logic.ipynb in the aima_python repository to inform how you implement your solution. Your solution should NOT rely directly on any code in logic.py or logic.ipynb.\n",
        "\n",
        "Check you model checking by showing whether A & (B | C) & D & E & (~F & ~G) entails A & D & E & ~F & ~G.\n",
        "You will need to convert this example to prefix notation. It is also a good idea to check a\n",
        "few simple cases to confirm that your approach works.\n"
      ]
    },
    {
      "cell_type": "code",
      "execution_count": 131,
      "metadata": {
        "id": "lUWa-gqEZQ95"
      },
      "outputs": [],
      "source": [
        "# YOUR CODE GOES HERE"
      ]
    },
    {
      "cell_type": "markdown",
      "metadata": {
        "id": "Md-HTwtoZQ97"
      },
      "source": [
        "# Extra ideas (no credit)\n",
        "\n",
        "* Implement conversion of the prefix expressions to prefix conjuctive normal form (CNF) based on the recursive evaluator you have implemented.\n",
        "* Based on the recursive evaluator you have implemented do a conversion of expressions in prefix notation to the infix notation of expressions supported by logic.ipynb. Provide 4 test cases that demonstrate the the conversion works by confirming that the result of your evaluator and the logic.ipynb evaluator are the same.\n",
        "\n"
      ]
    },
    {
      "cell_type": "markdown",
      "metadata": {
        "id": "7gNoHzZTZQ97"
      },
      "source": [
        "# Question 6 (Basic)\n",
        "\n",
        "Consider the following propositional logic knowledge base.\n",
        "\n",
        "It is not sunny this afternoon and it is colder than yesterday.\n",
        "We will go swimming only if it is sunny.\n",
        "If we do not go swimming then we will take a canoe trip.\n",
        "If we take a canoe trip, then we will be home by sunset.\n",
        "Denote:\n",
        "\n",
        "* p = It is sunny this afternoon\n",
        "* q = it is colder than yesterday\n",
        "* r = We will go swimming\n",
        "* s= we will take a canoe trip\n",
        "* t= We will be home by sunset\n",
        "\n",
        "Express this knowledge base using propositional logic using the expression syntax used in logic.ipynb. You can incoprorate any code you need from logic.ipynb and logic.py. Using both model checking and theorem proving inference (you can use the implementations providedin logic.py) show that this knowledge base entails the sentence if it is not sunny this afternoon then we will be home by sunset."
      ]
    },
    {
      "cell_type": "code",
      "execution_count": 132,
      "metadata": {
        "id": "s_Ko4rMeZQ98",
        "colab": {
          "base_uri": "https://localhost:8080/"
        },
        "outputId": "10f465ea-e5eb-4845-ba07-b785ba8f0fb0"
      },
      "outputs": [
        {
          "output_type": "stream",
          "name": "stdout",
          "text": [
            "True\n"
          ]
        }
      ],
      "source": [
        "# YOUR CODE GOES HERE\n",
        "\n",
        "from logic import *\n",
        "\n",
        "KB = PropKB()\n",
        "P, Q, R, S, T = symbols('P, Q, R, S, T')\n",
        "\n",
        "KB.tell(expr('~P & Q'))\n",
        "KB.tell(expr('R <=> P'))\n",
        "KB.tell(expr('~R ==> S'))\n",
        "KB.tell(expr('S ==> T'))\n",
        "\n",
        "print(KB.ask_if_true(expr('~P ==> T')))\n"
      ]
    },
    {
      "cell_type": "markdown",
      "metadata": {
        "id": "ft_quDCLZQ99"
      },
      "source": [
        "# Question 7 (Basic)  \n",
        "\n",
        "Encode the kindship domain described in section 8.3.2 of the textbook using FOL and FolKB implementation in logic.py and encode as facts the relationships between the members of the Simpsons family from the popular TV show:  \n",
        "\n",
        "https://en.wikipedia.org/wiki/Simpson_family\n",
        "\n",
        "\n",
        "Show how the following queries can be answered using this KB:\n",
        "\n",
        "* Who are the children of Homer ?\n",
        "* Who are the parents of Bart ?\n",
        "* Are Lisa and Homer siblings ?\n",
        "* Are Lisa and Bart siblings ?\n"
      ]
    },
    {
      "cell_type": "code",
      "execution_count": 133,
      "metadata": {
        "id": "rs5LwmMMZQ9-",
        "colab": {
          "base_uri": "https://localhost:8080/"
        },
        "outputId": "a2638b52-dcc8-4864-d575-4c51199bd908"
      },
      "outputs": [
        {
          "output_type": "stream",
          "name": "stdout",
          "text": [
            "Who are the children of Homer?\n",
            "Bart\n",
            "Lisa\n",
            "Maggie\n",
            "Who are the parents of Bart?\n",
            "Homer\n",
            "Marge\n",
            "Are Lisa and Homer siblings?\n",
            "No\n",
            "Are Lisa and Bart siblings?\n",
            "Yes\n"
          ]
        }
      ],
      "source": [
        "# YOUR CODE GOES HERE\n",
        "\n",
        "from logic import *\n",
        "\n",
        "axioms = [\n",
        "  expr('Parent(Homer, Bart)'),\n",
        "  expr('Parent(Homer, Lisa)'),\n",
        "  expr('Parent(Homer, Maggie)'),\n",
        "  expr('(Parent(Homer, c)) ==> Parent(Marge, c)'),\n",
        "  expr('(Parent(p, c)) ==> Child(c, p)'),\n",
        "  expr('(Parent(p, x) & Parent(p, y)) ==> Sibling(x, y)')\n",
        "]\n",
        "\n",
        "KB = FolKB(axioms)\n",
        "\n",
        "print(\"Who are the children of Homer?\")\n",
        "children = fol_fc_ask(KB, expr('Parent(Homer, c)'))\n",
        "[print(*child.values()) for child in children]\n",
        "\n",
        "print(\"Who are the parents of Bart?\")\n",
        "parents = fol_fc_ask(KB, expr('Child(Bart, p)'))\n",
        "[print(*parent.values()) for parent in parents]\n",
        "\n",
        "print(\"Are Lisa and Homer siblings?\")\n",
        "siblings = fol_fc_ask(KB, expr('Sibling(Lisa, Homer)'))\n",
        "if len(list(siblings)) == 0:\n",
        "  print('No')\n",
        "else:\n",
        "  print('Yes')\n",
        "\n",
        "print(\"Are Lisa and Bart siblings?\")\n",
        "siblings = fol_fc_ask(KB, expr('Sibling(Lisa, Bart)'))\n",
        "if len(list(siblings)) == 0:\n",
        "  print('No')\n",
        "else:\n",
        "  print('Yes')\n"
      ]
    },
    {
      "cell_type": "markdown",
      "metadata": {
        "id": "sxyeIMG6ZQ9_"
      },
      "source": [
        "# QUESTION 8 (EXPECTED)\n",
        "\n",
        "In this question we explore Prolog which is a programming language based on logic. We won't go into details but just wanted to give you a flavor of the syntax and how it connects to what we have learned. For this question you\n",
        "will NOT be using the notebook so your answer should just be the source code. We will use http://tau-prolog.org/ which is a Prolog implementation that can run in a browser. When you access the webpage there is a text window labeled try it for entering your knowledge base and under it t\n",
        "here is a text entry field for entering your query.\n",
        "\n",
        "For example type in the Try it window and press enter:\n",
        "\n",
        "```Prolog\n",
        "likes(sam, salad).\n",
        "likes(dean, pie).\n",
        "likes(sam, apples).\n",
        "likes(dean, whiskey).\n",
        "```\n",
        "\n",
        "Then enter the query:\n",
        "```Prolog\n",
        "likes(sam,X).\n",
        "```\n",
        "When you press Enter once you will get X=apples. and X=salad. Note the periods at the end of each statement.\n",
        "\n",
        "Encode the kinship domain from the previous question in Prolog and answer the queries from the previous question. Notice that in Prolog the constants start with lower case letters and the variables start with upper case letters.\n",
        "\n",
        "Provide your code for the KB and queries using markup. See the syntax for Prolog of this cell by double clicking for editing.\n",
        "\n"
      ]
    },
    {
      "cell_type": "code",
      "execution_count": 134,
      "metadata": {
        "id": "awy_8TiLZQ-A"
      },
      "outputs": [],
      "source": [
        "# YOUR CODE GOES HERE (USING MARKDOWN)"
      ]
    },
    {
      "cell_type": "markdown",
      "source": [
        "```\n",
        ":- use_module(library(lists)).\n",
        "parent(homer, bart).\n",
        "parent(homer, lisa).\n",
        "parent(homer, maggie).\n",
        "parent(marge, bart).\n",
        "parent(marge, lisa).\n",
        "parent(marge, maggie).\n",
        "\n",
        "child(bart, homer).\n",
        "child(lisa, homer).\n",
        "child(maggie, homer).\n",
        "child(bart, marge).\n",
        "child(lisa, marge).\n",
        "child(maggie, marge).\n",
        "\n",
        "sibling(bart, lisa).\n",
        "sibling(bart, maggie).\n",
        "sibling(lisa, bart).\n",
        "sibling(lisa, maggie).\n",
        "sibling(maggie, bart).\n",
        "sibling(maggie, lisa).\n",
        "\n",
        "parents(Child, Parents) :-\n",
        "\tfindall(Parent, parent(Parent, Child), Parents).\n",
        "\n",
        "children(Parent, Children) :-\n",
        "\tfindall(Child, child(Child, Parent), Children).\n",
        "\n",
        "% Test Cases\n",
        "\n",
        "% T1: Who are the children of Homer?\n",
        "% query: children(homer, Children).\n",
        "% output: Children = [bart,lisa,maggie]\n",
        "\n",
        "% T2: Who are the parents of Bart?\n",
        "% query: parents(bart, Parents).\n",
        "% output: Parents = [homer,marge]\n",
        "\n",
        "% T3: Are Lisa and Homer siblings?\n",
        "% query: sibling(lisa, homer).\n",
        "% output: false\n",
        "\n",
        "% T4: Are Lisa and Bart siblings?\n",
        "% query: sibling(lisa, bart).\n",
        "% output: true\n",
        "```"
      ],
      "metadata": {
        "id": "2ZTFYWKuXQGf"
      }
    },
    {
      "cell_type": "markdown",
      "metadata": {
        "id": "zqIk8NBfZQ-C"
      },
      "source": [
        "# QUESTION 9 (EXPECTED)\n",
        "\n",
        "\n",
        "## Legoworld\n",
        "\n",
        "\n",
        "In this question we explore the use of FOL to encode knowledge about the objects\n",
        "and arrangement of a simple world created by different lego pieces. Our world\n",
        "will consist of making simple structure by placing lego pieces on top of each other.\n",
        "Each lego piece will be identified by a unique identifier (the letters in the figure below).\n",
        "\n",
        "Let's look at a specific example where each piece is labeled by a letter:\n",
        "\n",
        "<img src=\"https://github.com/alexwholland/CSC-421/blob/main/Assignment%202/lego_letters.png?raw=1\" width=\"60%\"/>\n",
        "\n",
        "This corresponds to the following picture:\n",
        "\n",
        "<img src=\"https://github.com/alexwholland/CSC-421/blob/main/Assignment%202/lego2.png?raw=1\" width=\"60%\"/>\n",
        "\n",
        "\n",
        "\n",
        "We can use the following predicates to model the world:\n",
        "* OnPlate(p): p is attached to the bottom plate\n",
        "* On(p1,p2): piece p1 is placed on top of piece p2\n",
        "* AtLeft(p1,p2): piece p1 and piece p2 are placed on the plate, and piece p1 is direct at the left of p2\n",
        "* Color(p,c): The color of piece p is c (Red, Grey, Brown, White, Yellow, Blue)\n",
        "* Type(p,t): The type of piece p is t (Brick, Plate, Tile)\n",
        "\n",
        "<img src=\"https://github.com/alexwholland/CSC-421/blob/main/Assignment%202/lego3.png?raw=1\" width=\"20%\"/>\n",
        "\n",
        "\n",
        "Each pieces will be identified by the letters appearing in the picture. The thicker brick with studs will have type  Brick, the thinner brick with studs is of type Plate, and the one that is flat on the top is of type Tile.\n",
        "\n",
        "\n",
        "Use the FO KB implementation in logic.py to:\n",
        "\n",
        "1. Write a database of facts which models the world in the picture. For example you can use clauses.append(expr('TypeOf(A,Brick)')) to state that lego piece A is a Brick.\n",
        "\n",
        "2. Based exclusively on using these predicates (OnPlate, On, AtLeft), define the following predicates:\n",
        "    * Base(b1, b2): b2 is the base of the tower containing b1.\n",
        "    * Base_at_right(b1, b2): b1 and b2 are on the plate, and b2 is at the right (but perhaps not directly) of b1.\n",
        "    * Object_at_right(b1, b2): b1 is in a pile which is at the right (but perhaps not directly) of b2.\n",
        "    \n",
        "    \n",
        "The above predicates must work for any world defined using the facts specified by on_plate, on,\n",
        "at_left not just the specific example encoded above. In other words these predicates should be defined\n",
        "in terms of the existing predicates and variables. As an example here is the definition of Base.\n",
        "\n",
        "    * clauses.append(expr('OnPlate(x) ==> Base(x,x)'))\n",
        "    * clauses.append(expr('On(x,z) & Base (z,y) ==> Base(x,y)'))\n",
        "    \n",
        "This is a recursive definition it is a good idea to see how it works by doing substitutions by hand.\n",
        "\n",
        "\n",
        "3. Using the KB you created answer the following queries:\n",
        "    * Is piece B on top of piece C?\n",
        "    * What is the type and color of the piece on top of C?\n",
        "    * What is the type of the base of H?\n",
        "    * What are the bricks that are right of C?\n",
        "    * What are all the bricks that are on top of i ?\n",
        "\n",
        "\n",
        "\n",
        "\n"
      ]
    },
    {
      "cell_type": "code",
      "source": [
        "# PART 1\n",
        "\n",
        "from logic import *\n",
        "\n",
        "clauses = []\n",
        "\n",
        "# Bricks attached to the bottom plate\n",
        "clauses.append(expr('OnPlate(A)'))\n",
        "clauses.append(expr('OnPlate(D)'))\n",
        "clauses.append(expr('OnPlate(F)'))\n",
        "clauses.append(expr('OnPlate(J)'))\n",
        "\n",
        "# Pieces placed on another piece\n",
        "clauses.append(expr('On(C, D)'))\n",
        "clauses.append(expr('On(B, C)'))\n",
        "clauses.append(expr('On(E, F)'))\n",
        "clauses.append(expr('On(I, J)'))\n",
        "clauses.append(expr('On(H, I)'))\n",
        "clauses.append(expr('On(G, H)'))\n",
        "\n",
        "# Pieces placed on the the plate and to the left\n",
        "clauses.append(expr('AtLeft(A, D)'))\n",
        "clauses.append(expr('AtLeft(D, F)'))\n",
        "clauses.append(expr('AtLeft(F, J)'))\n",
        "\n",
        "# Color of each piece\n",
        "clauses.append(expr('Color(A, Red)'))\n",
        "clauses.append(expr('Color(B, White)'))\n",
        "clauses.append(expr('Color(C, Brown)'))\n",
        "clauses.append(expr('Color(D, Grey)'))\n",
        "clauses.append(expr('Color(E, Brown)'))\n",
        "clauses.append(expr('Color(F, Red)'))\n",
        "clauses.append(expr('Color(G, Brown)'))\n",
        "clauses.append(expr('Color(H, Red)'))\n",
        "clauses.append(expr('Color(I, Blue)'))\n",
        "clauses.append(expr('Color(J, Yellow)'))\n",
        "\n",
        "# Type of piece\n",
        "clauses.append(expr('TypeOf(A, Brick)'))\n",
        "clauses.append(expr('TypeOf(B, Tile)'))\n",
        "clauses.append(expr('TypeOf(C, Plate)'))\n",
        "clauses.append(expr('TypeOf(D, Brick)'))\n",
        "clauses.append(expr('TypeOf(E, Tile)'))\n",
        "clauses.append(expr('TypeOf(F, Brick)'))\n",
        "clauses.append(expr('TypeOf(G, Tile)'))\n",
        "clauses.append(expr('TypeOf(H, Brick)'))\n",
        "clauses.append(expr('TypeOf(I, Brick)'))\n",
        "clauses.append(expr('TypeOf(J, Plate)'))\n"
      ],
      "metadata": {
        "id": "XmBHZdIpbz_y"
      },
      "execution_count": 135,
      "outputs": []
    },
    {
      "cell_type": "code",
      "source": [
        "# PART 2\n",
        "\n",
        "# Base(b1, b2)\n",
        "clauses.append(expr('OnPlate(x) ==> Base(x, x)'))\n",
        "clauses.append(expr('On(x, z) & Base(z, y) ==> Base(x, y)'))\n",
        "\n",
        "# Base_at_right(b1, b2)\n",
        "clauses.append(expr('AtLeft(b1, b2) & OnPlate(b1) & OnPlate(b2) ==> Base_at_right(b1, b2)'))\n",
        "clauses.append(expr('AtLeft(b1, z) & OnPlate(b1) & OnPlate(b2) & AtLeft(z, b2) ==> Base_at_right(b1, b2)'))\n",
        "\n",
        "# Object_at_right(b1, b2)\n",
        "clauses.append(expr('Base(x, y) & AtLeft(y, z) ==> Object_at_right(z, x)'))\n",
        "clauses.append(expr('OnPlate(x) & AtLeft(x, y) ==> Object_at_right(y, x)'))\n",
        "clauses.append(expr('Object_at_right(x, y) & On(z, x) ==> Object_at_right(z, y)'))\n"
      ],
      "metadata": {
        "id": "QrvtGwshfziP"
      },
      "execution_count": 146,
      "outputs": []
    },
    {
      "cell_type": "code",
      "source": [
        "def destructure(output):\n",
        "    return ''.join(str(*item.values()) for item in output)\n",
        "\n",
        "KB = FolKB(clauses)\n",
        "\n",
        "def ask_and_print(question, query):\n",
        "    result = destructure(fol_fc_ask(KB, expr(query)))\n",
        "    print(question)\n",
        "    print(result)\n",
        "\n",
        "print(\"Is piece B on top of piece C?\")\n",
        "is_on_top = bool(fol_fc_ask(KB, expr('On(B, C)')))\n",
        "print(is_on_top)\n",
        "\n",
        "print(\"\\nWhat is the type and color of the piece on top of C?\")\n",
        "top_of_C = destructure(fol_fc_ask(KB, expr('On(x, C)')))\n",
        "color = destructure(fol_fc_ask(KB, expr(f'Color({top_of_C}, x)')))\n",
        "type_of_top = destructure(fol_fc_ask(KB, expr(f'TypeOf({top_of_C}, x)')))\n",
        "print(f'{top_of_C} is a {color} {type_of_top}')\n",
        "\n",
        "print(\"\\nWhat is the type of the base of H?\")\n",
        "base_of_H = destructure(fol_fc_ask(KB, expr('Base(H, x)')))\n",
        "type_of_base = destructure(fol_fc_ask(KB, expr(f'TypeOf({base_of_H}, x)')))\n",
        "print(f'{base_of_H} is a {type_of_base}')\n",
        "\n",
        "print(\"\\nWhat are the bricks that are right of C?\")\n",
        "legos = destructure(fol_fc_ask(KB, expr('Object_at_right(x, C)')))\n",
        "bricks = [lego for lego in legos if destructure(fol_fc_ask(KB, expr(f'TypeOf({lego}, x)'))) == 'Brick']\n",
        "print(''.join(bricks))\n",
        "\n",
        "print(\"\\nWhat are all the bricks that are on top of I?\")\n",
        "top_bricks = []\n",
        "start = destructure(fol_fc_ask(KB, expr('On(x, I)')))\n",
        "\n",
        "while start:\n",
        "    brick_type = destructure(fol_fc_ask(KB, expr(f'TypeOf({start}, x)')))\n",
        "    top_bricks.append(start) if brick_type == 'Brick' else ''\n",
        "\n",
        "    start = destructure(fol_fc_ask(KB, expr(f'On(x, {start})')))\n",
        "\n",
        "print(''.join(top_bricks))\n",
        "\n"
      ],
      "metadata": {
        "id": "uVndXIvxjmly",
        "outputId": "678f7c0f-107c-4b19-eaa5-e7e064732ad8",
        "colab": {
          "base_uri": "https://localhost:8080/"
        }
      },
      "execution_count": 155,
      "outputs": [
        {
          "output_type": "stream",
          "name": "stdout",
          "text": [
            "Is piece B on top of piece C?\n",
            "True\n",
            "\n",
            "What is the type and color of the piece on top of C?\n",
            "B is a White Tile\n",
            "\n",
            "What is the type of the base of H?\n",
            "J is a Plate\n",
            "\n",
            "What are the bricks that are right of C?\n",
            "F\n",
            "\n",
            "What are all the bricks that are on top of I?\n",
            "H\n"
          ]
        }
      ]
    },
    {
      "cell_type": "markdown",
      "source": [],
      "metadata": {
        "id": "-oGZtC0HjmXe"
      }
    },
    {
      "cell_type": "markdown",
      "metadata": {
        "id": "jlrXwD-bZQ-C"
      },
      "source": [
        "# QUESTION 10 (ADVANCED)\n",
        "\n",
        "\n",
        "This question is more advanced and open ended. I provide two options. You only need to implement one\n",
        "of the two options to get full credit for this question. You are welcome to implement both but\n",
        "you will still get 1 point.\n",
        "\n",
        "## Option 1\n",
        "\n",
        "Extend the Legoworld knowledge base with a predicate to determine if a brick is part of an unstable\n",
        "tower. Any brick placed on top of a tile results in an unstable tower. For example the brown plate\n",
        "and grey brick in the middle are unstable but the red brick under the tile in the middle is stable.\n",
        "This is a trickier predicate to define so show a few cases to ensure that it works as expected.\n",
        "\n",
        "<img src=\"https://github.com/alexwholland/CSC-421/blob/main/Assignment%202/lego1.png?raw=1\" width=\"40%\"/>\n",
        "\n",
        "Provide a simple natural language processing interface to the LegoWorld that takes input from\n",
        "the user and returns the results in more natural lanuage. For example you could have the following\n",
        "dialog:\n",
        "\n",
        "* User: What color is brick B ?\n",
        "* Computer: Brick B is Red.\n",
        "* User: Is there a brick that is on top of a tile?\n",
        "* Computer: Yes, brick D is on top of a tile.\n",
        "etc\n",
        "\n",
        "You will basically write a simple translation layer from simplified English to FOL tell and ask requests and back to simplified English.\n",
        "\n",
        "\n",
        "This question is inspired by the classic natural understanding work using logic: https://en.wikipedia.org/wiki/SHRDLU\n",
        "\n",
        "\n",
        "\n",
        "## Option 2\n",
        "\n",
        "\n",
        "This question explores the automatic constructions of a first-order logic knowledge base from a web resource and is more open ended than the other ones. The website https://www.songfacts.com/ contains a large variety of facts about music. Check the https://www.songfacts.com/categories link for some categories. Using selenium Python bindings https://selenium-python.readthedocs.io/ access the webpage and scrape at least three categories. Your code should scrape the information from the pages and convert it into relationships and facts in first-order logic using the syntax of expressions in logic.ipynb. Once you build your knowledge-base then write 4 non-trivial queries that show-case the expressiveness of FOL. These queries should not be possible to be answered easily using the web interface i.e they should have some logical connectives, more than one possible answer etc. The translation of the song facts from the web page to FOL should NOT be done by hand but using the web scraping tool you develop. You can use multiple cells in your answer."
      ]
    },
    {
      "cell_type": "code",
      "execution_count": 137,
      "metadata": {
        "id": "vRJDGqqVZQ-D"
      },
      "outputs": [],
      "source": []
    },
    {
      "cell_type": "code",
      "execution_count": 137,
      "metadata": {
        "id": "qmxSbh41ZQ-F"
      },
      "outputs": [],
      "source": []
    },
    {
      "cell_type": "code",
      "execution_count": 137,
      "metadata": {
        "id": "zlox7svwZQ-F"
      },
      "outputs": [],
      "source": []
    },
    {
      "cell_type": "code",
      "execution_count": 137,
      "metadata": {
        "id": "HQJH9VqBZQ-F"
      },
      "outputs": [],
      "source": []
    }
  ],
  "metadata": {
    "kernelspec": {
      "display_name": "Python 3 (ipykernel)",
      "language": "python",
      "name": "python3"
    },
    "language_info": {
      "codemirror_mode": {
        "name": "ipython",
        "version": 3
      },
      "file_extension": ".py",
      "mimetype": "text/x-python",
      "name": "python",
      "nbconvert_exporter": "python",
      "pygments_lexer": "ipython3",
      "version": "3.10.12"
    },
    "colab": {
      "provenance": []
    }
  },
  "nbformat": 4,
  "nbformat_minor": 0
}